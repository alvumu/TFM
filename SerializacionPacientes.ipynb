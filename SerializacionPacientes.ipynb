{
  "nbformat": 4,
  "nbformat_minor": 0,
  "metadata": {
    "colab": {
      "provenance": [],
      "authorship_tag": "ABX9TyOV+f61cB/pGvnodoUyucne",
      "include_colab_link": true
    },
    "kernelspec": {
      "name": "python3",
      "display_name": "Python 3"
    },
    "language_info": {
      "name": "python"
    }
  },
  "cells": [
    {
      "cell_type": "markdown",
      "metadata": {
        "id": "view-in-github",
        "colab_type": "text"
      },
      "source": [
        "<a href=\"https://colab.research.google.com/github/alvumu/TFM/blob/main/SerializacionPacientes.ipynb\" target=\"_parent\"><img src=\"https://colab.research.google.com/assets/colab-badge.svg\" alt=\"Open In Colab\"/></a>"
      ]
    },
    {
      "cell_type": "markdown",
      "source": [
        "Leemos los archivos CSV y se convierten a JSON"
      ],
      "metadata": {
        "id": "sXAZjOGONtKb"
      }
    },
    {
      "cell_type": "code",
      "source": [
        "import csv\n",
        "import json\n",
        "\n",
        "def csv2json(archivo_csv, archivo_json):\n",
        "    datos = []\n",
        "    with open(archivo_csv, 'r') as csv_file:\n",
        "        csv_reader = csv.DictReader(csv_file)\n",
        "        for fila in csv_reader:\n",
        "            datos.append(fila)\n",
        "\n",
        "    with open(archivo_json, 'w') as json_file:\n",
        "        json_file.write(json.dumps(datos, indent=4))\n",
        "\n",
        "\n"
      ],
      "metadata": {
        "id": "6fOZRbPI6uxN"
      },
      "execution_count": 2,
      "outputs": []
    },
    {
      "cell_type": "code",
      "source": [
        "# Utiliza la función csv_a_json con los nombres de tus archivos CSV y JSON\n",
        "csv2json('patients.csv', 'patient.json')\n",
        "csv2json('admissions.csv', 'admissions.json')"
      ],
      "metadata": {
        "id": "rCKkH5lL-PBA"
      },
      "execution_count": null,
      "outputs": []
    },
    {
      "cell_type": "markdown",
      "source": [
        "Combinamos los datos para el recurso del paciente"
      ],
      "metadata": {
        "id": "vyzLHjXJAbLI"
      }
    },
    {
      "cell_type": "code",
      "execution_count": null,
      "metadata": {
        "id": "evkcmh8kMhQe"
      },
      "outputs": [],
      "source": [
        "import json\n",
        "\n",
        "# Función para cargar datos de un archivo JSON\n",
        "def load_json(filename):\n",
        "    with open(filename) as f:\n",
        "      return json.load(f)\n",
        "# Crear un diccionario para almacenar la información combinada\n",
        "combined_data = {}\n",
        "\n",
        "# Construir un diccionario de pacientes para una búsqueda eficiente\n",
        "patients_dict = {}\n",
        "\n",
        "for patient in load_json('patient.json'):\n",
        "    patients_dict[patient['subject_id']] = patient\n",
        "\n",
        "# Iterar sobre las admisiones médicas y combinar la información del paciente\n",
        "for admission in load_json('admissions.json'):\n",
        "    subject_id = admission['subject_id']\n",
        "    patient = patients_dict.get(subject_id)\n",
        "    # Comprobar si el paciente está presente en el JSON de pacientes\n",
        "    if patient:\n",
        "        # Si el paciente ya está en el diccionario combinado, agregar la admisión médica a su lista\n",
        "        if subject_id in combined_data:\n",
        "            combined_data[subject_id]['admissions'].append(admission)\n",
        "        # Si el paciente no está en el diccionario combinado, crear una nueva entrada\n",
        "        else:\n",
        "            combined_data[subject_id] = patient.copy()\n",
        "            combined_data[subject_id]['admissions'] = [admission]\n",
        "\n",
        "# Serializar la información combinada a texto\n",
        "combined_json_text = json.dumps(list(combined_data.values()), indent=2)\n",
        "\n"
      ]
    },
    {
      "cell_type": "markdown",
      "source": [
        "Redactamos el texto de cada paciente"
      ],
      "metadata": {
        "id": "nhVHkqf_Ag_Y"
      }
    },
    {
      "cell_type": "code",
      "source": [
        "import json\n",
        "\n",
        "# Función para generar texto a partir de una instancia del JSON\n",
        "def generate_text_from_instance(instance):\n",
        "    output_text = \"\"\n",
        "    for patient_data in instance:\n",
        "        patient_id = patient_data[\"subject_id\"]\n",
        "        patient_text = \"Patient Info:\\n\"\n",
        "        for key, value in patient_data.items():\n",
        "            if key != 'admissions':\n",
        "                patient_text += f\"The {key} of the patient is {value}. \"\n",
        "        for admission in patient_data['admissions']:\n",
        "            for key, value in admission.items():\n",
        "                patient_text += f\"The {key} is {value}. \"\n",
        "            patient_text += \"\\n\"\n",
        "        patient_text += \"\\n\"\n",
        "        output_text += patient_text\n",
        "        # Almacenar la descripción de texto por ID\n",
        "        text_by_id[patient_id] = patient_text\n",
        "    return output_text\n",
        "\n",
        "# Inicializar el diccionario para almacenar descripciones de texto por ID\n",
        "text_by_id = {}\n",
        "\n",
        "# Leer los datos del archivo JSON\n",
        "with open('patient+admissions.json') as f:\n",
        "    data = json.load(f)\n",
        "\n",
        "# Generar texto para el JSON y almacenarlo por ID\n",
        "json_text = generate_text_from_instance(data)\n",
        "\n",
        "\n"
      ],
      "metadata": {
        "id": "8Lvgu6YnerLo"
      },
      "execution_count": null,
      "outputs": []
    },
    {
      "cell_type": "markdown",
      "source": [
        "Buscamos un paciente concreto"
      ],
      "metadata": {
        "id": "TD-ycUCbAtp3"
      }
    },
    {
      "cell_type": "code",
      "source": [
        "# Función para buscar la información por ID\n",
        "def search_by_id(patient_id):\n",
        "    return text_by_id.get(patient_id, \"ID not found\")\n",
        "\n",
        "# Ejemplo de búsqueda\n",
        "patient_id_to_search = \"10039694\"\n",
        "print(search_by_id(patient_id_to_search))"
      ],
      "metadata": {
        "colab": {
          "base_uri": "https://localhost:8080/"
        },
        "id": "aUKC5xTdidx6",
        "outputId": "552a4203-2392-4d03-9ee5-7321456f7402"
      },
      "execution_count": 12,
      "outputs": [
        {
          "output_type": "stream",
          "name": "stdout",
          "text": [
            "Patient Info:\n",
            "The subject_id of the patient is 10039694. The gender of the patient is F. The anchor_age of the patient is 36. The anchor_year of the patient is 2170. The anchor_year_group of the patient is 2014 - 2016. The dod of the patient is . The subject_id is 10039694. The hadm_id is 20374452. The admittime is 2170-06-28 19:41:00. The dischtime is 2170-07-02 16:41:00. The deathtime is . The admission_type is URGENT. The admission_location is TRANSFER FROM HOSPITAL. The discharge_location is HOME. The insurance is Medicare. The language is ENGLISH. The marital_status is SINGLE. The ethnicity is WHITE. The edregtime is . The edouttime is . The hospital_expire_flag is 0. \n",
            "\n",
            "\n"
          ]
        }
      ]
    }
  ]
}