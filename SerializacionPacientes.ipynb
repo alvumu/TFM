{
  "nbformat": 4,
  "nbformat_minor": 0,
  "metadata": {
    "colab": {
      "provenance": [],
      "authorship_tag": "ABX9TyNNPMwzQyijLNACWIPrVsxa",
      "include_colab_link": true
    },
    "kernelspec": {
      "name": "python3",
      "display_name": "Python 3"
    },
    "language_info": {
      "name": "python"
    }
  },
  "cells": [
    {
      "cell_type": "markdown",
      "metadata": {
        "id": "view-in-github",
        "colab_type": "text"
      },
      "source": [
        "<a href=\"https://colab.research.google.com/github/alvumu/TFM/blob/main/SerializacionPacientes.ipynb\" target=\"_parent\"><img src=\"https://colab.research.google.com/assets/colab-badge.svg\" alt=\"Open In Colab\"/></a>"
      ]
    },
    {
      "cell_type": "markdown",
      "source": [
        "Leemos los archivos JSON"
      ],
      "metadata": {
        "id": "sXAZjOGONtKb"
      }
    },
    {
      "cell_type": "code",
      "execution_count": 4,
      "metadata": {
        "colab": {
          "base_uri": "https://localhost:8080/",
          "height": 332
        },
        "id": "evkcmh8kMhQe",
        "outputId": "aa668f2c-e00d-4370-851d-27c873210d7f"
      },
      "outputs": [
        {
          "output_type": "error",
          "ename": "FileNotFoundError",
          "evalue": "[Errno 2] No such file or directory: 'patient.json'",
          "traceback": [
            "\u001b[0;31m---------------------------------------------------------------------------\u001b[0m",
            "\u001b[0;31mFileNotFoundError\u001b[0m                         Traceback (most recent call last)",
            "\u001b[0;32m<ipython-input-4-d85ed40ad3e4>\u001b[0m in \u001b[0;36m<cell line: 15>\u001b[0;34m()\u001b[0m\n\u001b[1;32m     13\u001b[0m \u001b[0mpatients_dict\u001b[0m \u001b[0;34m=\u001b[0m \u001b[0;34m{\u001b[0m\u001b[0;34m}\u001b[0m\u001b[0;34m\u001b[0m\u001b[0;34m\u001b[0m\u001b[0m\n\u001b[1;32m     14\u001b[0m \u001b[0;34m\u001b[0m\u001b[0m\n\u001b[0;32m---> 15\u001b[0;31m \u001b[0;32mfor\u001b[0m \u001b[0mpatient\u001b[0m \u001b[0;32min\u001b[0m \u001b[0mload_json\u001b[0m\u001b[0;34m(\u001b[0m\u001b[0;34m'patient.json'\u001b[0m\u001b[0;34m)\u001b[0m\u001b[0;34m:\u001b[0m\u001b[0;34m\u001b[0m\u001b[0;34m\u001b[0m\u001b[0m\n\u001b[0m\u001b[1;32m     16\u001b[0m     \u001b[0mpatients_dict\u001b[0m\u001b[0;34m[\u001b[0m\u001b[0mpatient\u001b[0m\u001b[0;34m[\u001b[0m\u001b[0;34m'subject_id'\u001b[0m\u001b[0;34m]\u001b[0m\u001b[0;34m]\u001b[0m \u001b[0;34m=\u001b[0m \u001b[0mpatient\u001b[0m\u001b[0;34m\u001b[0m\u001b[0;34m\u001b[0m\u001b[0m\n\u001b[1;32m     17\u001b[0m \u001b[0;34m\u001b[0m\u001b[0m\n",
            "\u001b[0;32m<ipython-input-4-d85ed40ad3e4>\u001b[0m in \u001b[0;36mload_json\u001b[0;34m(filename)\u001b[0m\n\u001b[1;32m      3\u001b[0m \u001b[0;31m# Función para cargar datos de un archivo JSON línea por línea\u001b[0m\u001b[0;34m\u001b[0m\u001b[0;34m\u001b[0m\u001b[0m\n\u001b[1;32m      4\u001b[0m \u001b[0;32mdef\u001b[0m \u001b[0mload_json\u001b[0m\u001b[0;34m(\u001b[0m\u001b[0mfilename\u001b[0m\u001b[0;34m)\u001b[0m\u001b[0;34m:\u001b[0m\u001b[0;34m\u001b[0m\u001b[0;34m\u001b[0m\u001b[0m\n\u001b[0;32m----> 5\u001b[0;31m     \u001b[0;32mwith\u001b[0m \u001b[0mopen\u001b[0m\u001b[0;34m(\u001b[0m\u001b[0mfilename\u001b[0m\u001b[0;34m)\u001b[0m \u001b[0;32mas\u001b[0m \u001b[0mf\u001b[0m\u001b[0;34m:\u001b[0m\u001b[0;34m\u001b[0m\u001b[0;34m\u001b[0m\u001b[0m\n\u001b[0m\u001b[1;32m      6\u001b[0m         \u001b[0;32mfor\u001b[0m \u001b[0mline\u001b[0m \u001b[0;32min\u001b[0m \u001b[0mf\u001b[0m\u001b[0;34m:\u001b[0m\u001b[0;34m\u001b[0m\u001b[0;34m\u001b[0m\u001b[0m\n\u001b[1;32m      7\u001b[0m             \u001b[0;32myield\u001b[0m \u001b[0mjson\u001b[0m\u001b[0;34m.\u001b[0m\u001b[0mloads\u001b[0m\u001b[0;34m(\u001b[0m\u001b[0mline\u001b[0m\u001b[0;34m)\u001b[0m\u001b[0;34m\u001b[0m\u001b[0;34m\u001b[0m\u001b[0m\n",
            "\u001b[0;31mFileNotFoundError\u001b[0m: [Errno 2] No such file or directory: 'patient.json'"
          ]
        }
      ],
      "source": [
        "import json\n",
        "\n",
        "# Función para cargar datos de un archivo JSON línea por línea\n",
        "def load_json(filename):\n",
        "    with open(filename) as f:\n",
        "        for line in f:\n",
        "            yield json.loads(line)\n",
        "\n",
        "# Crear un diccionario para almacenar la información combinada\n",
        "combined_data = {}\n",
        "\n",
        "# Construir un diccionario de pacientes para una búsqueda eficiente\n",
        "patients_dict = {}\n",
        "\n",
        "for patient in load_json('patient.json'):\n",
        "    patients_dict[patient['subject_id']] = patient\n",
        "\n",
        "# Iterar sobre las admisiones médicas y combinar la información del paciente\n",
        "for admission in load_json('admissions.json'):\n",
        "    subject_id = admission['subject_id']\n",
        "    patient = patients_dict.get(subject_id)\n",
        "    # Comprobar si el paciente está presente en el JSON de pacientes\n",
        "    if patient:\n",
        "        # Si el paciente ya está en el diccionario combinado, agregar la admisión médica a su lista\n",
        "        if subject_id in combined_data:\n",
        "            combined_data[subject_id]['admissions'].append(admission)\n",
        "        # Si el paciente no está en el diccionario combinado, crear una nueva entrada\n",
        "        else:\n",
        "            combined_data[subject_id] = patient.copy()\n",
        "            combined_data[subject_id]['admissions'] = [admission]\n",
        "\n",
        "# Serializar la información combinada a texto\n",
        "combined_json_text = json.dumps(list(combined_data.values()), indent=2)\n",
        "\n",
        "# Imprimir el resultado\n",
        "print(combined_json_text)\n"
      ]
    },
    {
      "cell_type": "code",
      "source": [
        "import json\n",
        "\n",
        "# Cargar los datos de pacientes y admisiones médicas desde los archivos JSON\n",
        "with open('patients.json') as f:\n",
        "    patients_data = json.load(f)\n",
        "\n",
        "with open('admissions.json') as f:\n",
        "    admissions_data = json.load(f)\n",
        "\n",
        "# Crear un diccionario para almacenar la información combinada\n",
        "combined_data = {}\n",
        "\n",
        "# Construir un diccionario de pacientes para una búsqueda eficiente\n",
        "patients_dict = {patient['subject_id']: patient for patient in patients_data}\n",
        "\n",
        "# Iterar sobre las admisiones médicas y combinar la información del paciente\n",
        "for admission in admissions_data:\n",
        "    subject_id = admission['subject_id']\n",
        "    # Comprobar si el paciente está presente en el JSON de pacientes\n",
        "    if subject_id in patients_dict:\n",
        "        # Si el paciente ya está en el diccionario combinado, agregar la admisión médica a su lista\n",
        "        if subject_id in combined_data:\n",
        "            combined_data[subject_id]['admissions'].append(admission)\n",
        "        # Si el paciente no está en el diccionario combinado, crear una nueva entrada\n",
        "        else:\n",
        "            combined_data[subject_id] = patients_dict[subject_id]\n",
        "            combined_data[subject_id]['admissions'] = [admission]\n",
        "\n",
        "# Construir una cadena de texto para la salida\n",
        "output_text = \"\"\n",
        "for patient_data in combined_data.values():\n",
        "    output_text += \"Patient Info:\\n\"\n",
        "    for key, value in patient_data.items():\n",
        "        if key != 'admissions':\n",
        "            output_text += f\"The {key} of the patient is {value}. \"\n",
        "    for admission in patient_data['admissions']:\n",
        "        for key, value in admission.items():\n",
        "            output_text += f\"The {key} is {value}. \"\n",
        "        output_text += \"\\n\"\n",
        "    output_text += \"\\n\"\n",
        "\n",
        "# Imprimir el resultado\n",
        "print(output_text)\n"
      ],
      "metadata": {
        "colab": {
          "base_uri": "https://localhost:8080/"
        },
        "id": "672rSWyEnTDT",
        "outputId": "b1af37e1-a6c5-4ddc-b63b-36f1a37ede7c"
      },
      "execution_count": null,
      "outputs": [
        {
          "metadata": {
            "tags": null
          },
          "name": "stderr",
          "output_type": "stream",
          "text": [
            "IOPub data rate exceeded.\n",
            "The notebook server will temporarily stop sending output\n",
            "to the client in order to avoid crashing it.\n",
            "To change this limit, set the config variable\n",
            "`--NotebookApp.iopub_data_rate_limit`.\n",
            "\n",
            "Current values:\n",
            "NotebookApp.iopub_data_rate_limit=1000000.0 (bytes/sec)\n",
            "NotebookApp.rate_limit_window=3.0 (secs)\n",
            "\n"
          ]
        }
      ]
    },
    {
      "cell_type": "code",
      "source": [
        "from google.colab import files\n",
        "\n",
        "# Ruta del archivo en el entorno de Google Colab\n",
        "file_path = \"/content/archivo.zip\"\n",
        "\n",
        "# Descargar el archivo a tu equipo local\n",
        "files.download(file_path)\n"
      ],
      "metadata": {
        "id": "eCCWqCL_ajv3"
      },
      "execution_count": null,
      "outputs": []
    },
    {
      "cell_type": "code",
      "source": [
        "import json\n",
        "\n",
        "# Función para generar texto a partir de una instancia del JSON\n",
        "def generate_text_from_instance(instance):\n",
        "    output_text = \"\"\n",
        "    for patient_data in instance:\n",
        "        patient_id = patient_data[\"subject_id\"]\n",
        "        patient_text = \"Patient Info:\\n\"\n",
        "        for key, value in patient_data.items():\n",
        "            if key != 'admissions':\n",
        "                patient_text += f\"The {key} of the patient is {value}. \"\n",
        "        for admission in patient_data['admissions']:\n",
        "            for key, value in admission.items():\n",
        "                patient_text += f\"The {key} is {value}. \"\n",
        "            patient_text += \"\\n\"\n",
        "        patient_text += \"\\n\"\n",
        "        output_text += patient_text\n",
        "        # Almacenar la descripción de texto por ID\n",
        "        text_by_id[patient_id] = patient_text\n",
        "    return output_text\n",
        "\n",
        "# Inicializar el diccionario para almacenar descripciones de texto por ID\n",
        "text_by_id = {}\n",
        "\n",
        "# Leer los datos del archivo JSON\n",
        "with open('combined_data.json') as f:\n",
        "    data = json.load(f)\n",
        "\n",
        "# Generar texto para el JSON y almacenarlo por ID\n",
        "json_text = generate_text_from_instance(data)\n",
        "\n",
        "\n"
      ],
      "metadata": {
        "id": "8Lvgu6YnerLo",
        "outputId": "345efe00-0b7c-4749-d29d-68db51673bfd",
        "colab": {
          "base_uri": "https://localhost:8080/"
        }
      },
      "execution_count": 9,
      "outputs": [
        {
          "output_type": "stream",
          "name": "stdout",
          "text": [
            "ID not found\n"
          ]
        }
      ]
    },
    {
      "cell_type": "code",
      "source": [
        "# Función para buscar la información por ID\n",
        "def search_by_id(patient_id):\n",
        "    return text_by_id.get(patient_id, \"ID not found\")\n",
        "\n",
        "# Ejemplo de búsqueda\n",
        "patient_id_to_search = \"10533040\"\n",
        "print(search_by_id(patient_id_to_search))"
      ],
      "metadata": {
        "id": "aUKC5xTdidx6",
        "outputId": "844a9b0f-9095-48c2-e457-c9cc0305a2ff",
        "colab": {
          "base_uri": "https://localhost:8080/"
        }
      },
      "execution_count": 11,
      "outputs": [
        {
          "output_type": "stream",
          "name": "stdout",
          "text": [
            "Patient Info:\n",
            "The subject_id of the patient is 10533040. The gender of the patient is M. The anchor_age of the patient is 47. The anchor_year of the patient is 2140. The anchor_year_group of the patient is 2011 - 2013. The dod of the patient is . The subject_id is 10533040. The hadm_id is 26395854. The admittime is 2141-04-27 21:23:00. The dischtime is 2141-05-03 17:13:00. The deathtime is . The admission_type is EW EMER.. The admission_location is EMERGENCY ROOM. The discharge_location is SKILLED NURSING FACILITY. The insurance is Other. The language is ENGLISH. The marital_status is SINGLE. The ethnicity is BLACK/AFRICAN AMERICAN. The edregtime is 2141-04-27 13:31:00. The edouttime is 2141-04-27 22:16:00. The hospital_expire_flag is 0. \n",
            "\n",
            "\n"
          ]
        }
      ]
    }
  ]
}