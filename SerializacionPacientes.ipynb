{
  "nbformat": 4,
  "nbformat_minor": 0,
  "metadata": {
    "colab": {
      "provenance": [],
      "authorship_tag": "ABX9TyP0BSxODVMPR7FUt5PecTa8",
      "include_colab_link": true
    },
    "kernelspec": {
      "name": "python3",
      "display_name": "Python 3"
    },
    "language_info": {
      "name": "python"
    }
  },
  "cells": [
    {
      "cell_type": "markdown",
      "metadata": {
        "id": "view-in-github",
        "colab_type": "text"
      },
      "source": [
        "<a href=\"https://colab.research.google.com/github/alvumu/TFM/blob/main/SerializacionPacientes.ipynb\" target=\"_parent\"><img src=\"https://colab.research.google.com/assets/colab-badge.svg\" alt=\"Open In Colab\"/></a>"
      ]
    },
    {
      "cell_type": "markdown",
      "source": [
        "Leemos los archivos CSV y se convierten a JSON"
      ],
      "metadata": {
        "id": "sXAZjOGONtKb"
      }
    },
    {
      "cell_type": "code",
      "source": [
        "import csv\n",
        "import json\n",
        "\n",
        "def csv2json(archivo_csv, archivo_json):\n",
        "    datos = []\n",
        "    with open(archivo_csv, 'r') as csv_file:\n",
        "        csv_reader = csv.DictReader(csv_file)\n",
        "        for fila in csv_reader:\n",
        "            datos.append(fila)\n",
        "\n",
        "    with open(archivo_json, 'w') as json_file:\n",
        "        json_file.write(json.dumps(datos, indent=4))\n",
        "\n",
        "\n"
      ],
      "metadata": {
        "id": "6fOZRbPI6uxN"
      },
      "execution_count": 1,
      "outputs": []
    },
    {
      "cell_type": "code",
      "source": [
        "# Utiliza la función csv_a_json con los nombres de tus archivos CSV y JSON\n",
        "csv2json('patients.csv', 'patient.json')\n",
        "csv2json('admissions.csv', 'admissions.json')"
      ],
      "metadata": {
        "id": "rCKkH5lL-PBA"
      },
      "execution_count": 2,
      "outputs": []
    },
    {
      "cell_type": "markdown",
      "source": [
        "Combinamos los datos para el recurso del paciente"
      ],
      "metadata": {
        "id": "vyzLHjXJAbLI"
      }
    },
    {
      "cell_type": "code",
      "source": [
        "# Función para cargar datos de un archivo JSON\n",
        "def load_json(filename):\n",
        "    with open(filename) as f:\n",
        "      return json.load(f)"
      ],
      "metadata": {
        "id": "6Ucgfj1KzdKQ"
      },
      "execution_count": 6,
      "outputs": []
    },
    {
      "cell_type": "code",
      "execution_count": 13,
      "metadata": {
        "id": "evkcmh8kMhQe"
      },
      "outputs": [],
      "source": [
        "import json\n",
        "\n",
        "# Crear un diccionario para almacenar la información combinada\n",
        "combined_data = {}\n",
        "\n",
        "# Construir un diccionario de pacientes para una búsqueda eficiente\n",
        "patients_dict = {}\n",
        "\n",
        "for patient in load_json('patient.json'):\n",
        "    patients_dict[patient['subject_id']] = patient\n",
        "\n",
        "# Iterar sobre las admisiones médicas y combinar la información del paciente\n",
        "for admission in load_json('admissions.json'):\n",
        "    subject_id = admission['subject_id']\n",
        "    patient = patients_dict.get(subject_id)\n",
        "    # Comprobar si el paciente está presente en el JSON de pacientes\n",
        "    if patient:\n",
        "        # Si el paciente ya está en el diccionario combinado, agregar la admisión médica a su lista\n",
        "        if subject_id in combined_data:\n",
        "            combined_data[subject_id]['admissions'].append(admission)\n",
        "        # Si el paciente no está en el diccionario combinado, crear una nueva entrada\n",
        "        else:\n",
        "            combined_data[subject_id] = patient.copy()\n",
        "            combined_data[subject_id]['admissions'] = [admission]\n",
        "\n",
        "# Guardar la información combinada como un archivo JSON\n",
        "with open('combined_data.json', 'w') as json_file:\n",
        "    json.dump(list(combined_data.values()), json_file, indent=2)\n",
        "\n",
        "\n"
      ]
    },
    {
      "cell_type": "markdown",
      "source": [
        "Redactamos el texto de cada paciente"
      ],
      "metadata": {
        "id": "nhVHkqf_Ag_Y"
      }
    },
    {
      "cell_type": "code",
      "source": [
        "import json\n",
        "\n",
        "# Función para generar texto a partir de una instancia del JSON\n",
        "def generate_text_from_instance(instance):\n",
        "    text_by_id = {}\n",
        "    output_text = \"\"\n",
        "    for patient_data in instance:\n",
        "        patient_id = patient_data[\"subject_id\"]\n",
        "        patient_text = \"Patient Info:\\n\"\n",
        "        for key, value in patient_data.items():\n",
        "            if key != 'admissions':\n",
        "                patient_text += f\"The {key} of the patient is {value}. \"\n",
        "        for admission in patient_data['admissions']:\n",
        "            for key, value in admission.items():\n",
        "                patient_text += f\"The {key} is {value}. \"\n",
        "            patient_text += \"\\n\"\n",
        "        patient_text += \"\\n\"\n",
        "        output_text += patient_text\n",
        "        # Almacenar la descripción de texto por ID\n",
        "        text_by_id[patient_id] = patient_text\n",
        "    return text_by_id\n",
        "\n",
        "\n",
        "\n"
      ],
      "metadata": {
        "id": "8Lvgu6YnerLo"
      },
      "execution_count": 36,
      "outputs": []
    },
    {
      "cell_type": "code",
      "source": [
        "# Leer los datos del archivo JSON\n",
        "with open('combined_data.json') as f:\n",
        "    data = json.load(f)"
      ],
      "metadata": {
        "id": "NQ2mLuVt9Dsu"
      },
      "execution_count": 27,
      "outputs": []
    },
    {
      "cell_type": "markdown",
      "source": [
        "Buscamos un paciente concreto"
      ],
      "metadata": {
        "id": "TD-ycUCbAtp3"
      }
    },
    {
      "cell_type": "code",
      "source": [
        "# Generar texto para el JSON y almacenarlo por ID\n",
        "text_dict = generate_text_from_instance(data)"
      ],
      "metadata": {
        "id": "0atXkrmw9-w_"
      },
      "execution_count": 30,
      "outputs": []
    },
    {
      "cell_type": "code",
      "source": [
        "# Función para buscar la información por ID\n",
        "def search_by_id(patient_id):\n",
        "    return text_dict.get(patient_id, \"ID not found\")\n",
        "\n",
        "# Ejemplo de búsqueda\n",
        "patient_id_to_search = \"10039694\"\n",
        "print(search_by_id(patient_id_to_search))"
      ],
      "metadata": {
        "colab": {
          "base_uri": "https://localhost:8080/"
        },
        "id": "aUKC5xTdidx6",
        "outputId": "f8c35d89-3d3b-4fee-ec72-f59b7fdd69cc"
      },
      "execution_count": 31,
      "outputs": [
        {
          "output_type": "stream",
          "name": "stdout",
          "text": [
            "Patient Info:\n",
            "The subject_id of the patient is 10039694. The gender of the patient is F. The anchor_age of the patient is 36. The anchor_year of the patient is 2170. The anchor_year_group of the patient is 2014 - 2016. The dod of the patient is . The subject_id is 10039694. The hadm_id is 20374452. The admittime is 2170-06-28 19:41:00. The dischtime is 2170-07-02 16:41:00. The deathtime is . The admission_type is URGENT. The admission_location is TRANSFER FROM HOSPITAL. The discharge_location is HOME. The insurance is Medicare. The language is ENGLISH. The marital_status is SINGLE. The ethnicity is WHITE. The edregtime is . The edouttime is . The hospital_expire_flag is 0. \n",
            "\n",
            "\n"
          ]
        }
      ]
    },
    {
      "cell_type": "markdown",
      "source": [
        "# Transfers + Admissions"
      ],
      "metadata": {
        "id": "LiblTmaT_I7V"
      }
    },
    {
      "cell_type": "code",
      "source": [
        "# Utiliza la función csv_a_json con los nombres de tus archivos CSV y JSON\n",
        "csv2json('transfers.csv', 'transfers.json')"
      ],
      "metadata": {
        "id": "2iUGo61UviY4"
      },
      "execution_count": 4,
      "outputs": []
    },
    {
      "cell_type": "code",
      "source": [
        "# Crear un diccionario para almacenar la información combinada\n",
        "combined_data = {}\n",
        "\n",
        "# Construir un diccionario de pacientes para una búsqueda eficiente\n",
        "transfers_dict = {}\n",
        "\n",
        "for transfers in load_json('transfers.json'):\n",
        "    transfers_dict[transfers['subject_id']] = transfers\n",
        "\n",
        "# Iterar sobre las admisiones médicas y combinar la información del paciente\n",
        "for admission in load_json('admissions.json'):\n",
        "    subject_id = admission['subject_id']\n",
        "    transfer = transfers_dict.get(subject_id)\n",
        "    # Comprobar si el paciente está presente en el JSON de pacientes\n",
        "    if transfer:\n",
        "        # Si el paciente ya está en el diccionario combinado, agregar la admisión médica a su lista\n",
        "        if subject_id in combined_data:\n",
        "            combined_data[subject_id]['admissions'].append(admission)\n",
        "        # Si el paciente no está en el diccionario combinado, crear una nueva entrada\n",
        "        else:\n",
        "            combined_data[subject_id] = transfer.copy()\n",
        "            combined_data[subject_id]['admissions'] = [admission]\n",
        "\n",
        "# Guardar la información combinada como un archivo JSON\n",
        "with open('combined_data_TA.json', 'w') as json_file:\n",
        "    json.dump(list(combined_data.values()), json_file, indent=2)\n"
      ],
      "metadata": {
        "id": "cBTWXsWcsbtr"
      },
      "execution_count": 32,
      "outputs": []
    },
    {
      "cell_type": "code",
      "source": [
        "# Leer los datos del archivo JSON\n",
        "with open('combined_data_TA.json') as f:\n",
        "    data = json.load(f)"
      ],
      "metadata": {
        "id": "ckPA_uRt_Are"
      },
      "execution_count": 33,
      "outputs": []
    },
    {
      "cell_type": "code",
      "source": [
        "# Generar texto para el JSON y almacenarlo por ID\n",
        "text_dict_TA = generate_text_from_instance(data)"
      ],
      "metadata": {
        "id": "qs9fi_lh_Bxh"
      },
      "execution_count": 37,
      "outputs": []
    },
    {
      "cell_type": "code",
      "source": [
        "# Función para buscar la información por ID\n",
        "def search_by_id(patient_id):\n",
        "    return text_dict_TA.get(patient_id, \"ID not found\")\n",
        "\n",
        "# Ejemplo de búsqueda\n",
        "patient_id_to_search = \"12964119\"\n",
        "print(search_by_id(patient_id_to_search))"
      ],
      "metadata": {
        "id": "sTAo89mM_DpV",
        "outputId": "ebc284a3-8dd5-4b86-f7f1-c05846af254f",
        "colab": {
          "base_uri": "https://localhost:8080/"
        }
      },
      "execution_count": 39,
      "outputs": [
        {
          "output_type": "stream",
          "name": "stdout",
          "text": [
            "Patient Info:\n",
            "The subject_id of the patient is 12964119. The hadm_id of the patient is . The transfer_id of the patient is 31561509. The eventtype of the patient is ED. The careunit of the patient is Emergency Department. The intime of the patient is 2146-01-07 19:39:00. The outtime of the patient is 2146-01-07 19:45:00. The subject_id is 12964119. The hadm_id is 23948311. The admittime is 2145-06-20 22:46:00. The dischtime is 2145-06-23 20:32:00. The deathtime is . The admission_type is EU OBSERVATION. The admission_location is EMERGENCY ROOM. The discharge_location is . The insurance is Medicare. The language is ENGLISH. The marital_status is MARRIED. The ethnicity is WHITE. The edregtime is 2145-06-20 13:17:00. The edouttime is 2145-06-21 00:28:00. The hospital_expire_flag is 0. \n",
            "The subject_id is 12964119. The hadm_id is 29615974. The admittime is 2141-05-26 05:44:00. The dischtime is 2141-05-26 21:40:00. The deathtime is . The admission_type is EU OBSERVATION. The admission_location is EMERGENCY ROOM. The discharge_location is . The insurance is Medicare. The language is ENGLISH. The marital_status is MARRIED. The ethnicity is WHITE. The edregtime is 2141-05-25 20:29:00. The edouttime is 2141-05-26 07:37:00. The hospital_expire_flag is 0. \n",
            "The subject_id is 12964119. The hadm_id is 28519071. The admittime is 2148-10-27 23:25:00. The dischtime is 2148-10-28 12:22:00. The deathtime is . The admission_type is EU OBSERVATION. The admission_location is EMERGENCY ROOM. The discharge_location is . The insurance is Medicare. The language is ENGLISH. The marital_status is MARRIED. The ethnicity is WHITE. The edregtime is 2148-10-27 11:27:00. The edouttime is 2148-10-28 12:22:00. The hospital_expire_flag is 0. \n",
            "The subject_id is 12964119. The hadm_id is 24763907. The admittime is 2142-01-29 19:27:00. The dischtime is 2142-01-31 20:38:00. The deathtime is . The admission_type is EU OBSERVATION. The admission_location is EMERGENCY ROOM. The discharge_location is . The insurance is Medicare. The language is ENGLISH. The marital_status is MARRIED. The ethnicity is WHITE. The edregtime is 2142-01-29 15:53:00. The edouttime is 2142-01-29 21:38:00. The hospital_expire_flag is 0. \n",
            "The subject_id is 12964119. The hadm_id is 29805012. The admittime is 2143-11-08 19:55:00. The dischtime is 2143-11-12 18:09:00. The deathtime is . The admission_type is EU OBSERVATION. The admission_location is EMERGENCY ROOM. The discharge_location is . The insurance is Medicare. The language is ENGLISH. The marital_status is MARRIED. The ethnicity is WHITE. The edregtime is 2143-11-08 12:58:00. The edouttime is 2143-11-08 22:15:00. The hospital_expire_flag is 0. \n",
            "The subject_id is 12964119. The hadm_id is 28409923. The admittime is 2144-10-12 11:21:00. The dischtime is 2144-10-14 21:31:00. The deathtime is . The admission_type is EU OBSERVATION. The admission_location is EMERGENCY ROOM. The discharge_location is . The insurance is Medicare. The language is ENGLISH. The marital_status is MARRIED. The ethnicity is WHITE. The edregtime is 2144-10-11 17:16:00. The edouttime is 2144-10-12 12:49:00. The hospital_expire_flag is 0. \n",
            "The subject_id is 12964119. The hadm_id is 24689670. The admittime is 2141-09-20 05:31:00. The dischtime is 2141-09-22 21:03:00. The deathtime is . The admission_type is EU OBSERVATION. The admission_location is EMERGENCY ROOM. The discharge_location is . The insurance is Medicare. The language is ENGLISH. The marital_status is MARRIED. The ethnicity is WHITE. The edregtime is 2141-09-20 00:29:00. The edouttime is 2141-09-20 07:08:00. The hospital_expire_flag is 0. \n",
            "The subject_id is 12964119. The hadm_id is 22259192. The admittime is 2145-11-03 07:31:00. The dischtime is 2145-11-04 19:30:00. The deathtime is . The admission_type is EU OBSERVATION. The admission_location is EMERGENCY ROOM. The discharge_location is . The insurance is Medicare. The language is ENGLISH. The marital_status is MARRIED. The ethnicity is WHITE. The edregtime is 2145-11-02 19:27:00. The edouttime is 2145-11-03 09:22:00. The hospital_expire_flag is 0. \n",
            "The subject_id is 12964119. The hadm_id is 29317019. The admittime is 2143-03-23 06:18:00. The dischtime is 2143-03-24 14:45:00. The deathtime is . The admission_type is EU OBSERVATION. The admission_location is EMERGENCY ROOM. The discharge_location is . The insurance is Medicare. The language is ENGLISH. The marital_status is MARRIED. The ethnicity is WHITE. The edregtime is 2143-03-23 01:44:00. The edouttime is 2143-03-23 07:23:00. The hospital_expire_flag is 0. \n",
            "The subject_id is 12964119. The hadm_id is 25922676. The admittime is 2150-02-07 12:47:00. The dischtime is 2150-02-09 12:54:00. The deathtime is . The admission_type is DIRECT OBSERVATION. The admission_location is PHYSICIAN REFERRAL. The discharge_location is . The insurance is Medicare. The language is ENGLISH. The marital_status is MARRIED. The ethnicity is WHITE. The edregtime is . The edouttime is . The hospital_expire_flag is 0. \n",
            "The subject_id is 12964119. The hadm_id is 28288256. The admittime is 2144-10-18 02:37:00. The dischtime is 2144-10-23 16:40:00. The deathtime is . The admission_type is EU OBSERVATION. The admission_location is EMERGENCY ROOM. The discharge_location is . The insurance is Medicare. The language is ENGLISH. The marital_status is MARRIED. The ethnicity is WHITE. The edregtime is 2144-10-17 17:59:00. The edouttime is 2144-10-18 04:46:00. The hospital_expire_flag is 0. \n",
            "The subject_id is 12964119. The hadm_id is 20707986. The admittime is 2144-12-14 19:24:00. The dischtime is 2144-12-17 21:17:00. The deathtime is . The admission_type is EU OBSERVATION. The admission_location is EMERGENCY ROOM. The discharge_location is . The insurance is Medicare. The language is ENGLISH. The marital_status is MARRIED. The ethnicity is WHITE. The edregtime is 2144-12-14 14:41:00. The edouttime is 2144-12-14 21:05:00. The hospital_expire_flag is 0. \n",
            "The subject_id is 12964119. The hadm_id is 24181643. The admittime is 2146-07-18 19:10:00. The dischtime is 2146-07-19 22:37:00. The deathtime is . The admission_type is EU OBSERVATION. The admission_location is EMERGENCY ROOM. The discharge_location is . The insurance is Medicare. The language is ENGLISH. The marital_status is MARRIED. The ethnicity is WHITE. The edregtime is 2146-07-18 14:39:00. The edouttime is 2146-07-18 20:45:00. The hospital_expire_flag is 0. \n",
            "The subject_id is 12964119. The hadm_id is 21589745. The admittime is 2143-05-09 01:36:00. The dischtime is 2143-05-13 14:15:00. The deathtime is . The admission_type is EU OBSERVATION. The admission_location is EMERGENCY ROOM. The discharge_location is . The insurance is Medicare. The language is ENGLISH. The marital_status is MARRIED. The ethnicity is WHITE. The edregtime is 2143-05-08 18:29:00. The edouttime is 2143-05-09 02:41:00. The hospital_expire_flag is 0. \n",
            "The subject_id is 12964119. The hadm_id is 20349833. The admittime is 2144-01-05 19:16:00. The dischtime is 2144-01-08 18:32:00. The deathtime is . The admission_type is EU OBSERVATION. The admission_location is EMERGENCY ROOM. The discharge_location is . The insurance is Medicare. The language is ENGLISH. The marital_status is MARRIED. The ethnicity is WHITE. The edregtime is 2144-01-05 14:10:00. The edouttime is 2144-01-05 21:27:00. The hospital_expire_flag is 0. \n",
            "The subject_id is 12964119. The hadm_id is 24485887. The admittime is 2143-12-14 22:00:00. The dischtime is 2143-12-16 16:57:00. The deathtime is . The admission_type is EU OBSERVATION. The admission_location is EMERGENCY ROOM. The discharge_location is . The insurance is Medicare. The language is ENGLISH. The marital_status is MARRIED. The ethnicity is WHITE. The edregtime is 2143-12-14 17:29:00. The edouttime is 2143-12-14 23:29:00. The hospital_expire_flag is 0. \n",
            "The subject_id is 12964119. The hadm_id is 28968001. The admittime is 2144-07-06 17:38:00. The dischtime is 2144-07-09 20:17:00. The deathtime is . The admission_type is EU OBSERVATION. The admission_location is EMERGENCY ROOM. The discharge_location is . The insurance is Medicare. The language is ENGLISH. The marital_status is MARRIED. The ethnicity is WHITE. The edregtime is 2144-07-06 14:20:00. The edouttime is 2144-07-06 18:42:00. The hospital_expire_flag is 0. \n",
            "The subject_id is 12964119. The hadm_id is 26301777. The admittime is 2145-03-10 22:16:00. The dischtime is 2145-03-16 20:55:00. The deathtime is . The admission_type is EU OBSERVATION. The admission_location is EMERGENCY ROOM. The discharge_location is . The insurance is Medicare. The language is ENGLISH. The marital_status is MARRIED. The ethnicity is WHITE. The edregtime is 2145-03-10 18:23:00. The edouttime is 2145-03-10 23:43:00. The hospital_expire_flag is 0. \n",
            "The subject_id is 12964119. The hadm_id is 23358623. The admittime is 2144-08-10 09:01:00. The dischtime is 2144-08-12 21:45:00. The deathtime is . The admission_type is EU OBSERVATION. The admission_location is EMERGENCY ROOM. The discharge_location is . The insurance is Medicare. The language is ENGLISH. The marital_status is MARRIED. The ethnicity is WHITE. The edregtime is 2144-08-10 01:08:00. The edouttime is 2144-08-10 10:30:00. The hospital_expire_flag is 0. \n",
            "The subject_id is 12964119. The hadm_id is 24949408. The admittime is 2143-11-03 15:43:00. The dischtime is 2143-11-06 19:25:00. The deathtime is . The admission_type is EU OBSERVATION. The admission_location is EMERGENCY ROOM. The discharge_location is . The insurance is Medicare. The language is ENGLISH. The marital_status is MARRIED. The ethnicity is WHITE. The edregtime is 2143-11-03 13:53:00. The edouttime is 2143-11-03 18:15:00. The hospital_expire_flag is 0. \n",
            "The subject_id is 12964119. The hadm_id is 25758917. The admittime is 2144-12-06 00:45:00. The dischtime is 2144-12-06 19:00:00. The deathtime is . The admission_type is EW EMER.. The admission_location is EMERGENCY ROOM. The discharge_location is HOME. The insurance is Medicare. The language is ENGLISH. The marital_status is MARRIED. The ethnicity is WHITE. The edregtime is 2144-12-05 21:34:00. The edouttime is 2144-12-06 02:12:00. The hospital_expire_flag is 0. \n",
            "The subject_id is 12964119. The hadm_id is 24306153. The admittime is 2151-07-23 14:27:00. The dischtime is 2151-07-27 19:27:00. The deathtime is . The admission_type is EW EMER.. The admission_location is WALK-IN/SELF REFERRAL. The discharge_location is HOME HEALTH CARE. The insurance is Medicare. The language is ENGLISH. The marital_status is MARRIED. The ethnicity is WHITE. The edregtime is 2151-07-22 19:41:00. The edouttime is 2151-07-23 21:19:00. The hospital_expire_flag is 0. \n",
            "The subject_id is 12964119. The hadm_id is 25617833. The admittime is 2149-01-26 09:28:00. The dischtime is 2149-01-28 15:30:00. The deathtime is . The admission_type is EW EMER.. The admission_location is EMERGENCY ROOM. The discharge_location is HOME. The insurance is Medicare. The language is ENGLISH. The marital_status is MARRIED. The ethnicity is WHITE. The edregtime is 2149-01-25 19:22:00. The edouttime is 2149-01-26 11:50:00. The hospital_expire_flag is 0. \n",
            "The subject_id is 12964119. The hadm_id is 24559374. The admittime is 2141-12-01 05:56:00. The dischtime is 2141-12-13 18:30:00. The deathtime is . The admission_type is EW EMER.. The admission_location is EMERGENCY ROOM. The discharge_location is HOME. The insurance is Medicare. The language is ENGLISH. The marital_status is MARRIED. The ethnicity is WHITE. The edregtime is 2141-11-30 20:30:00. The edouttime is 2141-12-01 07:59:00. The hospital_expire_flag is 0. \n",
            "The subject_id is 12964119. The hadm_id is 28029174. The admittime is 2148-12-13 21:33:00. The dischtime is 2148-12-15 17:32:00. The deathtime is . The admission_type is OBSERVATION ADMIT. The admission_location is EMERGENCY ROOM. The discharge_location is HOME. The insurance is Medicare. The language is ENGLISH. The marital_status is MARRIED. The ethnicity is WHITE. The edregtime is 2148-12-13 16:30:00. The edouttime is 2148-12-14 00:19:00. The hospital_expire_flag is 0. \n",
            "The subject_id is 12964119. The hadm_id is 22838328. The admittime is 2149-03-12 22:16:00. The dischtime is 2149-03-18 21:30:00. The deathtime is . The admission_type is OBSERVATION ADMIT. The admission_location is EMERGENCY ROOM. The discharge_location is HOME. The insurance is Medicare. The language is ENGLISH. The marital_status is MARRIED. The ethnicity is WHITE. The edregtime is 2149-03-12 12:43:00. The edouttime is 2149-03-13 18:27:00. The hospital_expire_flag is 0. \n",
            "The subject_id is 12964119. The hadm_id is 22245639. The admittime is 2149-04-16 05:29:00. The dischtime is 2149-04-25 15:53:00. The deathtime is . The admission_type is OBSERVATION ADMIT. The admission_location is PHYSICIAN REFERRAL. The discharge_location is HOME. The insurance is Medicare. The language is ENGLISH. The marital_status is MARRIED. The ethnicity is WHITE. The edregtime is 2149-04-15 19:49:00. The edouttime is 2149-04-16 08:18:00. The hospital_expire_flag is 0. \n",
            "The subject_id is 12964119. The hadm_id is 29740035. The admittime is 2141-11-20 21:19:00. The dischtime is 2141-11-28 20:34:00. The deathtime is . The admission_type is EW EMER.. The admission_location is EMERGENCY ROOM. The discharge_location is HOME. The insurance is Medicare. The language is ENGLISH. The marital_status is MARRIED. The ethnicity is WHITE. The edregtime is 2141-11-20 17:04:00. The edouttime is 2141-11-20 22:25:00. The hospital_expire_flag is 0. \n",
            "The subject_id is 12964119. The hadm_id is 26906305. The admittime is 2151-01-17 14:48:00. The dischtime is 2151-01-19 21:20:00. The deathtime is . The admission_type is EW EMER.. The admission_location is WALK-IN/SELF REFERRAL. The discharge_location is HOME. The insurance is Medicare. The language is ENGLISH. The marital_status is MARRIED. The ethnicity is WHITE. The edregtime is 2151-01-16 20:42:00. The edouttime is 2151-01-17 17:48:00. The hospital_expire_flag is 0. \n",
            "The subject_id is 12964119. The hadm_id is 28177858. The admittime is 2151-02-24 15:09:00. The dischtime is 2151-02-27 22:13:00. The deathtime is . The admission_type is EW EMER.. The admission_location is WALK-IN/SELF REFERRAL. The discharge_location is HOME. The insurance is Medicare. The language is ENGLISH. The marital_status is MARRIED. The ethnicity is WHITE. The edregtime is 2151-02-23 19:41:00. The edouttime is 2151-02-24 16:26:00. The hospital_expire_flag is 0. \n",
            "The subject_id is 12964119. The hadm_id is 28426179. The admittime is 2147-09-07 10:23:00. The dischtime is 2147-09-09 17:25:00. The deathtime is . The admission_type is URGENT. The admission_location is PHYSICIAN REFERRAL. The discharge_location is HOME. The insurance is Medicare. The language is ENGLISH. The marital_status is MARRIED. The ethnicity is WHITE. The edregtime is . The edouttime is . The hospital_expire_flag is 0. \n",
            "The subject_id is 12964119. The hadm_id is 24402847. The admittime is 2147-10-01 18:52:00. The dischtime is 2147-10-05 15:45:00. The deathtime is . The admission_type is EW EMER.. The admission_location is EMERGENCY ROOM. The discharge_location is HOME HEALTH CARE. The insurance is Medicare. The language is ENGLISH. The marital_status is MARRIED. The ethnicity is WHITE. The edregtime is 2147-10-01 12:01:00. The edouttime is 2147-10-01 18:53:00. The hospital_expire_flag is 0. \n",
            "The subject_id is 12964119. The hadm_id is 23441410. The admittime is 2141-08-19 18:36:00. The dischtime is 2141-08-29 19:55:00. The deathtime is . The admission_type is EW EMER.. The admission_location is EMERGENCY ROOM. The discharge_location is HOME. The insurance is Medicare. The language is ENGLISH. The marital_status is MARRIED. The ethnicity is WHITE. The edregtime is 2141-08-19 14:01:00. The edouttime is 2141-08-19 20:17:00. The hospital_expire_flag is 0. \n",
            "The subject_id is 12964119. The hadm_id is 22142309. The admittime is 2144-06-14 22:11:00. The dischtime is 2144-06-21 16:17:00. The deathtime is . The admission_type is OBSERVATION ADMIT. The admission_location is EMERGENCY ROOM. The discharge_location is HOME. The insurance is Medicare. The language is ENGLISH. The marital_status is MARRIED. The ethnicity is WHITE. The edregtime is 2144-06-14 16:47:00. The edouttime is 2144-06-15 18:40:00. The hospital_expire_flag is 0. \n",
            "The subject_id is 12964119. The hadm_id is 21442888. The admittime is 2147-02-26 00:34:00. The dischtime is 2147-03-14 20:24:00. The deathtime is . The admission_type is EW EMER.. The admission_location is EMERGENCY ROOM. The discharge_location is HOME. The insurance is Medicare. The language is ENGLISH. The marital_status is MARRIED. The ethnicity is WHITE. The edregtime is 2147-02-25 18:37:00. The edouttime is 2147-02-26 02:56:00. The hospital_expire_flag is 0. \n",
            "The subject_id is 12964119. The hadm_id is 25191873. The admittime is 2150-02-22 15:55:00. The dischtime is 2150-02-24 19:23:00. The deathtime is . The admission_type is OBSERVATION ADMIT. The admission_location is PHYSICIAN REFERRAL. The discharge_location is HOME. The insurance is Medicare. The language is ENGLISH. The marital_status is MARRIED. The ethnicity is WHITE. The edregtime is . The edouttime is . The hospital_expire_flag is 0. \n",
            "\n",
            "\n"
          ]
        }
      ]
    }
  ]
}