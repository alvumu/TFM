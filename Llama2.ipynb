{
  "nbformat": 4,
  "nbformat_minor": 0,
  "metadata": {
    "colab": {
      "provenance": [],
      "authorship_tag": "ABX9TyPYkAaOn95HowHBCgJxiSqb",
      "include_colab_link": true
    },
    "kernelspec": {
      "name": "python3",
      "display_name": "Python 3"
    },
    "language_info": {
      "name": "python"
    }
  },
  "cells": [
    {
      "cell_type": "markdown",
      "metadata": {
        "id": "view-in-github",
        "colab_type": "text"
      },
      "source": [
        "<a href=\"https://colab.research.google.com/github/alvumu/TFM/blob/main/Llama2.ipynb\" target=\"_parent\"><img src=\"https://colab.research.google.com/assets/colab-badge.svg\" alt=\"Open In Colab\"/></a>"
      ]
    },
    {
      "cell_type": "code",
      "execution_count": null,
      "metadata": {
        "colab": {
          "base_uri": "https://localhost:8080/"
        },
        "id": "O6O3_Rmvkntd",
        "outputId": "ae55e467-b9f9-473e-96a7-e87598dddd4b"
      },
      "outputs": [
        {
          "output_type": "stream",
          "name": "stdout",
          "text": [
            "Cloning into 'Llama-2-7b-hf'...\n",
            "remote: Enumerating objects: 33, done.\u001b[K\n",
            "remote: Total 33 (delta 0), reused 0 (delta 0), pack-reused 33\u001b[K\n",
            "Unpacking objects: 100% (33/33), 491.74 KiB | 5.23 MiB/s, done.\n"
          ]
        }
      ],
      "source": [
        "!git clone https://huggingface.co/NousResearch/Llama-2-7b-hf"
      ]
    },
    {
      "cell_type": "code",
      "source": [
        "from transformers import AutoTokenizer,AutoModelForCauslLM, pipeline\n",
        "import torch\n",
        "from peft import PeftModel\n",
        "import csv\n"
      ],
      "metadata": {
        "id": "946TlbLblPD2"
      },
      "execution_count": null,
      "outputs": []
    },
    {
      "cell_type": "code",
      "source": [
        "model = AutoModelForCausalLM.from_pretrained(\n",
        "    \"NousResearch/Llama-2-7b-hf\",\n",
        "    torch_dtype=torch.bfloat16,\n",
        "    device_map=\"auto\",\n",
        "    trust_remote_code=True,\n",
        ")\n",
        "\n"
      ],
      "metadata": {
        "id": "Qs4iMFMLlySH"
      },
      "execution_count": null,
      "outputs": []
    },
    {
      "cell_type": "code",
      "source": [
        "model = PeftModel.from_pretrained(model, \"LLMTrainedModel/1epochModel\")  # Directory that contains the fine tuned model\n",
        "model = model.merge_and_unload()\n",
        "\n",
        "# Assuming `model` and `tokenizer` are your loaded model and tokenizer\n",
        "generator = pipeline(\"text-generation\", model=model, tokenizer=\"LLMTrainedModel/1epochModel/\")\n"
      ],
      "metadata": {
        "id": "P_UxJ_cBmAz_"
      },
      "execution_count": null,
      "outputs": []
    },
    {
      "cell_type": "code",
      "source": [
        "# Example prompt\n",
        "prompt = f'''###HUMAN: Your task is to process the following fragment of a medical note, retrieving and listing all SNOMED annotations found inside. You will return an \"EMPTY: No SNOMED annotations found in this fragment\" if there are none. For any that you find, you will return a list of: \"text {annotation}\", where 'text' is the part of the text that corresponds to the annotation, and 'annotation' is the corresponding SNOMED-CT annotation. This is the text to analyze:\n",
        "###TEXT: History of Present Illness:\n",
        "Mr. ___ is a ___ man who had severe biliary\n",
        "pancreatitis resulting in pancreatic necrosis for which he was\n",
        "treated with nasojejunal feedings and pancreatic rest.  He had\n",
        "initially had multisystem organ failure, which improved. Mr.\n",
        "___ has a large postnecrotic pseudocyst, which has been\n",
        "drained through a minimally invasive approach into his GI tract.\n",
        " He has some debris, but this is not currently infected. The\n",
        "patient was followed by Dr. ___ in his ___\n",
        "clinic to discuss cholecystectomy. After discussion of all\n",
        "risks, benefits and possible outcomes, patient was scheduled for\n",
        "elective cholecystectomy on ___.'''\n"
      ],
      "metadata": {
        "id": "6vAkasnFmBYc"
      },
      "execution_count": null,
      "outputs": []
    }
  ]
}